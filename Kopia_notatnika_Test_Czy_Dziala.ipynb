{
  "nbformat": 4,
  "nbformat_minor": 0,
  "metadata": {
    "colab": {
      "name": "Kopia notatnika Test_Czy_Dziala.ipynb",
      "provenance": [],
      "authorship_tag": "ABX9TyM8wvTNuE3hGuq2EHP6tc/o"
    },
    "kernelspec": {
      "name": "python3",
      "display_name": "Python 3"
    },
    "language_info": {
      "name": "python"
    }
  },
  "cells": [
    {
      "cell_type": "code",
      "metadata": {
        "id": "umsGCC2iK6WC"
      },
      "source": [
        "import pandas as pd\n"
      ],
      "execution_count": null,
      "outputs": []
    },
    {
      "cell_type": "code",
      "metadata": {
        "colab": {
          "base_uri": "https://localhost:8080/"
        },
        "id": "NuOWFdzSK8D2",
        "outputId": "41b543bc-7de9-4820-85e3-c2eca7fe2e1d"
      },
      "source": [
        "print(\"Test czy działa\")"
      ],
      "execution_count": null,
      "outputs": [
        {
          "output_type": "stream",
          "name": "stdout",
          "text": [
            "Test czy działa\n"
          ]
        }
      ]
    },
    {
      "cell_type": "code",
      "metadata": {
        "id": "45GMDPwwK-iw",
        "colab": {
          "base_uri": "https://localhost:8080/"
        },
        "outputId": "49b95606-f204-4c59-871d-9db5d52d662e"
      },
      "source": [
        "print(\"Powinno wyskoczyc na Github\")"
      ],
      "execution_count": 1,
      "outputs": [
        {
          "output_type": "stream",
          "name": "stdout",
          "text": [
            "Powinno wyskoczyc na Github\n"
          ]
        }
      ]
    }
  ]
}